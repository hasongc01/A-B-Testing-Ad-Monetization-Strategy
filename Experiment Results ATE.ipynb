{
 "cells": [
  {
   "cell_type": "markdown",
   "metadata": {},
   "source": [
    "# 0. Import Packages and Load Data\n"
   ]
  },
  {
   "cell_type": "code",
   "execution_count": 3,
   "metadata": {},
   "outputs": [],
   "source": [
    "# basic data frame\n",
    "import pandas as pd\n",
    "import numpy as np \n",
    "\n",
    "# balance check\n",
    "import statsmodels.formula.api as smf\n",
    "\n",
    "\n",
    "\n",
    "# visualization\n",
    "import matplotlib.pyplot as plt"
   ]
  },
  {
   "cell_type": "code",
   "execution_count": 4,
   "metadata": {},
   "outputs": [],
   "source": [
    "rg_df = pd.read_csv('RestaurantGrades Data.csv')"
   ]
  },
  {
   "cell_type": "markdown",
   "metadata": {},
   "source": [
    "# 1. Randomization Control and Balance Check\n",
    "\n",
    "Were the samples properly randomized? \n",
    "\n",
    "There are two characteristics of a restaurant: number of stars and type of restaurant (chain or not).\n",
    "\n",
    "We need to check whether the characteristics of each were properly distributed before analyzing the a/b test results. \n",
    "\n",
    "Both statistical signifiance and economical significance are important for balance check. \n",
    "\n",
    "- Statistical significance measures whether the characteristics are statistically indistinguishable between groups\n",
    "- Economical signifiance measures in terms of context (ex. is difference of 0.5 star ratings crucial?)\n",
    "\n"
   ]
  },
  {
   "cell_type": "markdown",
   "metadata": {},
   "source": [
    "## 1a. Balance Check Hypothesis\n",
    "\n",
    "**Stars_PreExperiment**\n",
    "\n",
    "- H0: There is no difference of Stars_PreExperiment between two groups.\n",
    "\n",
    "- H1: There is difference of Stars_PreExperiment between two groups.\n",
    "\n",
    "\n",
    "**Chain**\n",
    "\n",
    "- H0: There is no difference of Chain between two groups.\n",
    "\n",
    "- H1: There is difference of Chain between two groups."
   ]
  },
  {
   "cell_type": "markdown",
   "metadata": {},
   "source": [
    "## 1b. Balance Check Methods\n",
    "**Methods**\n",
    "\n",
    "The methods to test whether they were balanced depends on the type of variable.\n",
    "\n",
    "Stars_PreExperiment is a continuous variable and Chain is a categorical variable.\n",
    "\n",
    "**Stars_PreExperiment**\n",
    "\n",
    "- Method a: Two-sample t-tests for control vs treatment1 , treatment1 vs treatment 2\n",
    "- Method b: Anova\n",
    "- Method c: Linear Regression \n",
    "\n",
    "**Chain**\n",
    "- Method a: Chi-squared Test\n",
    "- Method b: Logistic Regression\n",
    "\n",
    "We will use regression to conduct balance check, as it is applicable for both statistical and economical significance test. "
   ]
  },
  {
   "cell_type": "markdown",
   "metadata": {},
   "source": [
    "## 1c. Statistical Significance"
   ]
  },
  {
   "cell_type": "markdown",
   "metadata": {},
   "source": [
    "### Stars_PreExperiment"
   ]
  },
  {
   "cell_type": "code",
   "execution_count": 5,
   "metadata": {},
   "outputs": [
    {
     "name": "stdout",
     "output_type": "stream",
     "text": [
      "                             OLS Regression Results                            \n",
      "===============================================================================\n",
      "Dep. Variable:     Stars_PreExperiment   R-squared:                       0.001\n",
      "Model:                             OLS   Adj. R-squared:                 -0.000\n",
      "Method:                  Least Squares   F-statistic:                    0.7797\n",
      "Date:                 Tue, 07 Oct 2025   Prob (F-statistic):              0.459\n",
      "Time:                         22:10:16   Log-Likelihood:                -3619.5\n",
      "No. Observations:                 3000   AIC:                             7245.\n",
      "Df Residuals:                     2997   BIC:                             7263.\n",
      "Df Model:                            2                                         \n",
      "Covariance Type:             nonrobust                                         \n",
      "==============================================================================\n",
      "                 coef    std err          t      P>|t|      [0.025      0.975]\n",
      "------------------------------------------------------------------------------\n",
      "Intercept      3.8635      0.026    151.019      0.000       3.813       3.914\n",
      "Treatment1    -0.0450      0.036     -1.244      0.214      -0.116       0.026\n",
      "Treatment2    -0.0190      0.036     -0.525      0.600      -0.090       0.052\n",
      "==============================================================================\n",
      "Omnibus:                      196.919   Durbin-Watson:                   1.947\n",
      "Prob(Omnibus):                  0.000   Jarque-Bera (JB):              181.364\n",
      "Skew:                          -0.540   Prob(JB):                     4.14e-40\n",
      "Kurtosis:                       2.467   Cond. No.                         3.73\n",
      "==============================================================================\n",
      "\n",
      "Notes:\n",
      "[1] Standard Errors assume that the covariance matrix of the errors is correctly specified.\n"
     ]
    }
   ],
   "source": [
    "# create treatment column \n",
    "rg_df['Treatment1'] = (rg_df['Treatment_Arm']==1).astype(int)\n",
    "rg_df['Treatment2'] = (rg_df['Treatment_Arm']==2).astype(int)\n",
    "\n",
    "# run linear regression model \n",
    "stars_stat_sig = smf.ols('Stars_PreExperiment~Treatment1+Treatment2', data = rg_df).fit()\n",
    "\n",
    "# see summary\n",
    "print(stars_stat_sig.summary())"
   ]
  },
  {
   "cell_type": "markdown",
   "metadata": {},
   "source": [
    "Balance Check Pass: P values are both insignificant, meaning StarsPreExperiment variable is statistically indistinguishable. "
   ]
  },
  {
   "cell_type": "markdown",
   "metadata": {},
   "source": [
    "### Chain\n"
   ]
  },
  {
   "cell_type": "code",
   "execution_count": 6,
   "metadata": {},
   "outputs": [
    {
     "name": "stdout",
     "output_type": "stream",
     "text": [
      "Optimization terminated successfully.\n",
      "         Current function value: 0.392487\n",
      "         Iterations 6\n",
      "                           Logit Regression Results                           \n",
      "==============================================================================\n",
      "Dep. Variable:                  Chain   No. Observations:                 3000\n",
      "Model:                          Logit   Df Residuals:                     2997\n",
      "Method:                           MLE   Df Model:                            2\n",
      "Date:                Tue, 07 Oct 2025   Pseudo R-squ.:               0.0004782\n",
      "Time:                        22:10:16   Log-Likelihood:                -1177.5\n",
      "converged:                       True   LL-Null:                       -1178.0\n",
      "Covariance Type:            nonrobust   LLR p-value:                    0.5693\n",
      "==============================================================================\n",
      "                 coef    std err          z      P>|z|      [0.025      0.975]\n",
      "------------------------------------------------------------------------------\n",
      "Intercept     -1.9368      0.095    -20.325      0.000      -2.124      -1.750\n",
      "Treatment1     0.1380      0.131      1.050      0.294      -0.120       0.396\n",
      "Treatment2     0.0534      0.133      0.400      0.689      -0.208       0.315\n",
      "==============================================================================\n"
     ]
    }
   ],
   "source": [
    "# run logistic regression model \n",
    "chain_stat_sig = smf.logit('Chain~Treatment1+Treatment2', data = rg_df).fit()\n",
    "\n",
    "# see summary\n",
    "print(chain_stat_sig.summary())"
   ]
  },
  {
   "cell_type": "markdown",
   "metadata": {},
   "source": [
    "Balance Check Pass:\n",
    "P values are both insignificant, meaning Chain variable is statistically indistinguishable. "
   ]
  },
  {
   "cell_type": "markdown",
   "metadata": {},
   "source": [
    "## 1d. Economical Significance\n",
    "\n",
    "To get a sense of economic significance, we examine correlations between characteristics and outcome. \n",
    "\n",
    "To do so, we use a regression with control group (since we don't have prior outcome data). \n",
    "\n",
    "The coefficients indicate how much gap in outcomes an imbalance in characteristics brings."
   ]
  },
  {
   "cell_type": "code",
   "execution_count": 7,
   "metadata": {},
   "outputs": [
    {
     "name": "stdout",
     "output_type": "stream",
     "text": [
      "Intercept             -22.639596\n",
      "Stars_PreExperiment    13.637148\n",
      "Chain                  -7.329562\n",
      "dtype: float64\n",
      "                            OLS Regression Results                            \n",
      "==============================================================================\n",
      "Dep. Variable:           Reservations   R-squared:                       0.590\n",
      "Model:                            OLS   Adj. R-squared:                  0.589\n",
      "Method:                 Least Squares   F-statistic:                     717.6\n",
      "Date:                Tue, 07 Oct 2025   Prob (F-statistic):          8.35e-194\n",
      "Time:                        22:10:17   Log-Likelihood:                -3671.0\n",
      "No. Observations:                1000   AIC:                             7348.\n",
      "Df Residuals:                     997   BIC:                             7363.\n",
      "Df Model:                           2                                         \n",
      "Covariance Type:            nonrobust                                         \n",
      "=======================================================================================\n",
      "                          coef    std err          t      P>|t|      [0.025      0.975]\n",
      "---------------------------------------------------------------------------------------\n",
      "Intercept             -22.6396      1.450    -15.609      0.000     -25.486     -19.793\n",
      "Stars_PreExperiment    13.6371      0.367     37.188      0.000      12.918      14.357\n",
      "Chain                  -7.3296      0.908     -8.076      0.000      -9.111      -5.549\n",
      "==============================================================================\n",
      "Omnibus:                       16.155   Durbin-Watson:                   1.998\n",
      "Prob(Omnibus):                  0.000   Jarque-Bera (JB):               22.417\n",
      "Skew:                          -0.170   Prob(JB):                     1.36e-05\n",
      "Kurtosis:                       3.650   Cond. No.                         20.2\n",
      "==============================================================================\n",
      "\n",
      "Notes:\n",
      "[1] Standard Errors assume that the covariance matrix of the errors is correctly specified.\n"
     ]
    }
   ],
   "source": [
    "# take control group data\n",
    "control_df = rg_df[rg_df['Treatment_Arm']==0]\n",
    "\n",
    "economic_sig_stars = smf.ols('Reservations ~ Stars_PreExperiment + Chain', data=control_df).fit()\n",
    "\n",
    "print(economic_sig_stars.params)\n",
    "\n",
    "print(economic_sig_stars.summary())"
   ]
  },
  {
   "cell_type": "markdown",
   "metadata": {},
   "source": [
    "### Stars_PreExperiment\n",
    "Balance Pass:\n",
    "\n",
    "One increase of stars_pre_experiment increase reservations by 13.6371. \n",
    "\n",
    "Previously, we ran regression to estimate effect of treatment groups on this variable, and got coefficient of -0.045. \n",
    "\n",
    "This means the treatment 1 group has 0.045 less stars than the control group.\n",
    "\n",
    "When we multiply 0.045 by 13.6371, we get 0.6, meaning that meaning that treatment1 group has 0.6 less of reservations than the control group.\n",
    "\n",
    "0.6 reservations is not economically significant, meaning that the groups are well balanced. \n",
    "\n"
   ]
  },
  {
   "cell_type": "markdown",
   "metadata": {},
   "source": [
    "### Chain\n",
    "\n",
    "\n",
    "While the chain variable itself is categorical, a question we really want to answer is:\n",
    "\n",
    "How much does the proportion of chain restaurants differ between treatment and control groups? \n",
    "\n",
    "In a logistic regression, coefficients are in log-odds, not probabilities. Coefficient of treatment1 = 0.138 does not mean a 0.138 higher proportion of chain restaurants. To convert it to a probability difference, we'll need to compute marginal effects. \n",
    "\n",
    "By contrast, an OLS with a 0/1 dependent variable directly gives the difference in proportions.\n",
    "\n",
    "Since we already have logistic regression output, we will use the params to convert.\n"
   ]
  },
  {
   "cell_type": "code",
   "execution_count": 8,
   "metadata": {},
   "outputs": [
    {
     "data": {
      "text/html": [
       "<table class=\"simpletable\">\n",
       "<caption>Logit Marginal Effects</caption>\n",
       "<tr>\n",
       "  <th>Dep. Variable:</th> <td>Chain</td>\n",
       "</tr>\n",
       "<tr>\n",
       "  <th>Method:</th>        <td>dydx</td> \n",
       "</tr>\n",
       "<tr>\n",
       "  <th>At:</th>            <td>mean</td> \n",
       "</tr>\n",
       "</table>\n",
       "<table class=\"simpletable\">\n",
       "<tr>\n",
       "       <th></th>         <th>dy/dx</th>    <th>std err</th>      <th>z</th>      <th>P>|z|</th>  <th>[0.025</th>    <th>0.975]</th>  \n",
       "</tr>\n",
       "<tr>\n",
       "  <th>Treatment1</th> <td>    0.0159</td> <td>    0.015</td> <td>    1.051</td> <td> 0.293</td> <td>   -0.014</td> <td>    0.046</td>\n",
       "</tr>\n",
       "<tr>\n",
       "  <th>Treatment2</th> <td>    0.0062</td> <td>    0.015</td> <td>    0.400</td> <td> 0.689</td> <td>   -0.024</td> <td>    0.036</td>\n",
       "</tr>\n",
       "</table>"
      ],
      "text/latex": [
       "\\begin{center}\n",
       "\\begin{tabular}{lc}\n",
       "\\toprule\n",
       "\\textbf{Dep. Variable:} &     Chain       \\\\\n",
       "\\textbf{Method:}        &      dydx       \\\\\n",
       "\\textbf{At:}            &      mean       \\\\\n",
       "\\bottomrule\n",
       "\\end{tabular}\n",
       "\\begin{tabular}{ccccccc}\n",
       "     \\textbf{}      & \\textbf{dy/dx} & \\textbf{std err} & \\textbf{z} & \\textbf{P$> |$z$|$} & \\textbf{[0.025} & \\textbf{0.975]}  \\\\\n",
       "\\midrule\n",
       "\\bottomrule\n",
       "\\end{tabular}\n",
       "\\begin{tabular}{lcccccc}\n",
       "\\textbf{Treatment1} &       0.0159   &        0.015     &     1.051  &         0.293        &       -0.014    &        0.046     \\\\\n",
       "\\textbf{Treatment2} &       0.0062   &        0.015     &     0.400  &         0.689        &       -0.024    &        0.036     \\\\\n",
       "\\bottomrule\n",
       "\\end{tabular}\n",
       "%\\caption{Logit Marginal Effects}\n",
       "\\end{center}"
      ],
      "text/plain": [
       "<class 'statsmodels.iolib.summary.Summary'>\n",
       "\"\"\"\n",
       "        Logit Marginal Effects       \n",
       "=====================================\n",
       "Dep. Variable:                  Chain\n",
       "Method:                          dydx\n",
       "At:                              mean\n",
       "==============================================================================\n",
       "                dy/dx    std err          z      P>|z|      [0.025      0.975]\n",
       "------------------------------------------------------------------------------\n",
       "Treatment1     0.0159      0.015      1.051      0.293      -0.014       0.046\n",
       "Treatment2     0.0062      0.015      0.400      0.689      -0.024       0.036\n",
       "==============================================================================\n",
       "\"\"\""
      ]
     },
     "execution_count": 8,
     "metadata": {},
     "output_type": "execute_result"
    }
   ],
   "source": [
    "chain_stat_sig.get_margeff(at='mean').summary()\n"
   ]
  },
  {
   "cell_type": "markdown",
   "metadata": {},
   "source": [
    "\n",
    "Balance Pass:\n",
    "\n",
    "When a restaurant is a chain, the number of reservations decrease by 7.3296.\n",
    "\n",
    "The marginal effect calculates the change in probability of being a chain across groups. \n",
    "\n",
    "The marginal effect gives 0.0159 for treatment 1, meaning 1.5% higher probability of being a chain. \n",
    "\n",
    "Multiply 7.329 by 0.0159 gives almost 0, so the chain characteristics are well distributed across the experimental groups. \n"
   ]
  },
  {
   "cell_type": "markdown",
   "metadata": {},
   "source": [
    "# 2. Primary Metric Experiment Result\n",
    "\n",
    "NSM = Reservations\n",
    "\n",
    "Reservtions is the number of bookings made directly through RG platform in a month.\n",
    "\n",
    "This metric is chosen because it is simple, business-aligned, scalable, and sensitive to experiments.\n",
    "\n",
    "This metric is analogous to other two sided digital marketplaces: rides booked (Uber) or nights booked (Airbnb)."
   ]
  },
  {
   "cell_type": "markdown",
   "metadata": {},
   "source": [
    "## 2a. ATE without Control Variable"
   ]
  },
  {
   "cell_type": "markdown",
   "metadata": {},
   "source": [
    "Now we look at the experiment results to answer our causal question.\n",
    "\n",
    "**Primary Causal Question**\n",
    "\n",
    "If RG switches from the current layout to the new layout, will reservations increase?\n",
    "\n",
    "Null Hypothesis (H₀)\n",
    "- The average reservations per month in treatment1 and treatment2 groups are equal\n",
    "\n",
    "Alternative Hypothesis (H₁)\n",
    "- Average reservations per month are different in treatment2 and in treatment 1\n",
    "\n",
    "Method A: Linear Regression\n",
    "\n",
    "Method B: Two-sample t-test\n",
    "\n",
    "**Secondary Causal Question**\n",
    "Does the current ad lift conversions vs without ads?\n",
    "\n",
    "Null Hypothesis (H₀)\n",
    "- The average reservations per month in treatment1 and control groups are equal\n",
    "\n",
    "Alternative Hypothesis (H₁)\n",
    "- Average reservations per month are higher in treatment1 than in control\n"
   ]
  },
  {
   "cell_type": "code",
   "execution_count": 11,
   "metadata": {},
   "outputs": [
    {
     "data": {
      "text/html": [
       "<table class=\"simpletable\">\n",
       "<caption>OLS Regression Results</caption>\n",
       "<tr>\n",
       "  <th>Dep. Variable:</th>      <td>Reservations</td>   <th>  R-squared:         </th> <td>   0.038</td> \n",
       "</tr>\n",
       "<tr>\n",
       "  <th>Model:</th>                   <td>OLS</td>       <th>  Adj. R-squared:    </th> <td>   0.037</td> \n",
       "</tr>\n",
       "<tr>\n",
       "  <th>Method:</th>             <td>Least Squares</td>  <th>  F-statistic:       </th> <td>   58.84</td> \n",
       "</tr>\n",
       "<tr>\n",
       "  <th>Date:</th>             <td>Tue, 07 Oct 2025</td> <th>  Prob (F-statistic):</th> <td>8.57e-26</td> \n",
       "</tr>\n",
       "<tr>\n",
       "  <th>Time:</th>                 <td>22:10:17</td>     <th>  Log-Likelihood:    </th> <td> -12448.</td> \n",
       "</tr>\n",
       "<tr>\n",
       "  <th>No. Observations:</th>      <td>  3000</td>      <th>  AIC:               </th> <td>2.490e+04</td>\n",
       "</tr>\n",
       "<tr>\n",
       "  <th>Df Residuals:</th>          <td>  2997</td>      <th>  BIC:               </th> <td>2.492e+04</td>\n",
       "</tr>\n",
       "<tr>\n",
       "  <th>Df Model:</th>              <td>     2</td>      <th>                     </th>     <td> </td>    \n",
       "</tr>\n",
       "<tr>\n",
       "  <th>Covariance Type:</th>      <td>nonrobust</td>    <th>                     </th>     <td> </td>    \n",
       "</tr>\n",
       "</table>\n",
       "<table class=\"simpletable\">\n",
       "<tr>\n",
       "       <td></td>         <th>coef</th>     <th>std err</th>      <th>t</th>      <th>P>|t|</th>  <th>[0.025</th>    <th>0.975]</th>  \n",
       "</tr>\n",
       "<tr>\n",
       "  <th>Intercept</th>  <td>   29.1240</td> <td>    0.485</td> <td>   60.016</td> <td> 0.000</td> <td>   28.173</td> <td>   30.075</td>\n",
       "</tr>\n",
       "<tr>\n",
       "  <th>Treatment1</th> <td>   -0.0430</td> <td>    0.686</td> <td>   -0.063</td> <td> 0.950</td> <td>   -1.389</td> <td>    1.303</td>\n",
       "</tr>\n",
       "<tr>\n",
       "  <th>Treatment2</th> <td>    6.4260</td> <td>    0.686</td> <td>    9.364</td> <td> 0.000</td> <td>    5.080</td> <td>    7.772</td>\n",
       "</tr>\n",
       "</table>\n",
       "<table class=\"simpletable\">\n",
       "<tr>\n",
       "  <th>Omnibus:</th>       <td>55.826</td> <th>  Durbin-Watson:     </th> <td>   1.954</td>\n",
       "</tr>\n",
       "<tr>\n",
       "  <th>Prob(Omnibus):</th> <td> 0.000</td> <th>  Jarque-Bera (JB):  </th> <td>  32.173</td>\n",
       "</tr>\n",
       "<tr>\n",
       "  <th>Skew:</th>          <td>-0.064</td> <th>  Prob(JB):          </th> <td>1.03e-07</td>\n",
       "</tr>\n",
       "<tr>\n",
       "  <th>Kurtosis:</th>      <td> 2.509</td> <th>  Cond. No.          </th> <td>    3.73</td>\n",
       "</tr>\n",
       "</table><br/><br/>Notes:<br/>[1] Standard Errors assume that the covariance matrix of the errors is correctly specified."
      ],
      "text/latex": [
       "\\begin{center}\n",
       "\\begin{tabular}{lclc}\n",
       "\\toprule\n",
       "\\textbf{Dep. Variable:}    &   Reservations   & \\textbf{  R-squared:         } &     0.038   \\\\\n",
       "\\textbf{Model:}            &       OLS        & \\textbf{  Adj. R-squared:    } &     0.037   \\\\\n",
       "\\textbf{Method:}           &  Least Squares   & \\textbf{  F-statistic:       } &     58.84   \\\\\n",
       "\\textbf{Date:}             & Tue, 07 Oct 2025 & \\textbf{  Prob (F-statistic):} &  8.57e-26   \\\\\n",
       "\\textbf{Time:}             &     22:10:17     & \\textbf{  Log-Likelihood:    } &   -12448.   \\\\\n",
       "\\textbf{No. Observations:} &        3000      & \\textbf{  AIC:               } & 2.490e+04   \\\\\n",
       "\\textbf{Df Residuals:}     &        2997      & \\textbf{  BIC:               } & 2.492e+04   \\\\\n",
       "\\textbf{Df Model:}         &           2      & \\textbf{                     } &             \\\\\n",
       "\\textbf{Covariance Type:}  &    nonrobust     & \\textbf{                     } &             \\\\\n",
       "\\bottomrule\n",
       "\\end{tabular}\n",
       "\\begin{tabular}{lcccccc}\n",
       "                    & \\textbf{coef} & \\textbf{std err} & \\textbf{t} & \\textbf{P$> |$t$|$} & \\textbf{[0.025} & \\textbf{0.975]}  \\\\\n",
       "\\midrule\n",
       "\\textbf{Intercept}  &      29.1240  &        0.485     &    60.016  &         0.000        &       28.173    &       30.075     \\\\\n",
       "\\textbf{Treatment1} &      -0.0430  &        0.686     &    -0.063  &         0.950        &       -1.389    &        1.303     \\\\\n",
       "\\textbf{Treatment2} &       6.4260  &        0.686     &     9.364  &         0.000        &        5.080    &        7.772     \\\\\n",
       "\\bottomrule\n",
       "\\end{tabular}\n",
       "\\begin{tabular}{lclc}\n",
       "\\textbf{Omnibus:}       & 55.826 & \\textbf{  Durbin-Watson:     } &    1.954  \\\\\n",
       "\\textbf{Prob(Omnibus):} &  0.000 & \\textbf{  Jarque-Bera (JB):  } &   32.173  \\\\\n",
       "\\textbf{Skew:}          & -0.064 & \\textbf{  Prob(JB):          } & 1.03e-07  \\\\\n",
       "\\textbf{Kurtosis:}      &  2.509 & \\textbf{  Cond. No.          } &     3.73  \\\\\n",
       "\\bottomrule\n",
       "\\end{tabular}\n",
       "%\\caption{OLS Regression Results}\n",
       "\\end{center}\n",
       "\n",
       "Notes: \\newline\n",
       " [1] Standard Errors assume that the covariance matrix of the errors is correctly specified."
      ],
      "text/plain": [
       "<class 'statsmodels.iolib.summary.Summary'>\n",
       "\"\"\"\n",
       "                            OLS Regression Results                            \n",
       "==============================================================================\n",
       "Dep. Variable:           Reservations   R-squared:                       0.038\n",
       "Model:                            OLS   Adj. R-squared:                  0.037\n",
       "Method:                 Least Squares   F-statistic:                     58.84\n",
       "Date:                Tue, 07 Oct 2025   Prob (F-statistic):           8.57e-26\n",
       "Time:                        22:10:17   Log-Likelihood:                -12448.\n",
       "No. Observations:                3000   AIC:                         2.490e+04\n",
       "Df Residuals:                    2997   BIC:                         2.492e+04\n",
       "Df Model:                           2                                         \n",
       "Covariance Type:            nonrobust                                         \n",
       "==============================================================================\n",
       "                 coef    std err          t      P>|t|      [0.025      0.975]\n",
       "------------------------------------------------------------------------------\n",
       "Intercept     29.1240      0.485     60.016      0.000      28.173      30.075\n",
       "Treatment1    -0.0430      0.686     -0.063      0.950      -1.389       1.303\n",
       "Treatment2     6.4260      0.686      9.364      0.000       5.080       7.772\n",
       "==============================================================================\n",
       "Omnibus:                       55.826   Durbin-Watson:                   1.954\n",
       "Prob(Omnibus):                  0.000   Jarque-Bera (JB):               32.173\n",
       "Skew:                          -0.064   Prob(JB):                     1.03e-07\n",
       "Kurtosis:                       2.509   Cond. No.                         3.73\n",
       "==============================================================================\n",
       "\n",
       "Notes:\n",
       "[1] Standard Errors assume that the covariance matrix of the errors is correctly specified.\n",
       "\"\"\""
      ]
     },
     "execution_count": 11,
     "metadata": {},
     "output_type": "execute_result"
    }
   ],
   "source": [
    "experiment_result = smf.ols('Reservations ~ Treatment1+Treatment2', data = rg_df).fit()\n",
    "experiment_result.summary()"
   ]
  },
  {
   "cell_type": "code",
   "execution_count": 12,
   "metadata": {},
   "outputs": [
    {
     "name": "stderr",
     "output_type": "stream",
     "text": [
      "/var/folders/pp/n1knqjg57ds10zbbb7v7yvfw0000gn/T/ipykernel_8707/2632074377.py:1: FutureWarning: Series.__getitem__ treating keys as positions is deprecated. In a future version, integer keys will always be treated as labels (consistent with DataFrame behavior). To access a value by position, use `ser.iloc[pos]`\n",
      "  control_res_coef = experiment_result.params[0]\n",
      "/var/folders/pp/n1knqjg57ds10zbbb7v7yvfw0000gn/T/ipykernel_8707/2632074377.py:2: FutureWarning: Series.__getitem__ treating keys as positions is deprecated. In a future version, integer keys will always be treated as labels (consistent with DataFrame behavior). To access a value by position, use `ser.iloc[pos]`\n",
      "  treatment1_res_coef = experiment_result.params[0] + experiment_result.params[1]\n",
      "/var/folders/pp/n1knqjg57ds10zbbb7v7yvfw0000gn/T/ipykernel_8707/2632074377.py:3: FutureWarning: Series.__getitem__ treating keys as positions is deprecated. In a future version, integer keys will always be treated as labels (consistent with DataFrame behavior). To access a value by position, use `ser.iloc[pos]`\n",
      "  treatment2_res_coef = experiment_result.params[0] + experiment_result.params[2]\n"
     ]
    }
   ],
   "source": [
    "control_res_coef = experiment_result.params[0]\n",
    "treatment1_res_coef = experiment_result.params[0] + experiment_result.params[1]\n",
    "treatment2_res_coef = experiment_result.params[0] + experiment_result.params[2]\n",
    "arr = [control_res_coef,treatment1_res_coef,treatment2_res_coef]\n"
   ]
  },
  {
   "cell_type": "code",
   "execution_count": 13,
   "metadata": {},
   "outputs": [
    {
     "name": "stdout",
     "output_type": "stream",
     "text": [
      "There is -0.15% lift in reservations when restaurants post ads on our platform.\n",
      "There is 22.24% lift in reservations when restaurants use our alternative ad design instead of the current ad design.\n"
     ]
    }
   ],
   "source": [
    "resy_lift = round((treatment1_res_coef - control_res_coef)*100/treatment1_res_coef,2)\n",
    "resy_ads_lift = round((treatment2_res_coef - treatment1_res_coef)*100/treatment1_res_coef,2)\n",
    "print(f\"There is {resy_lift}% lift in reservations when restaurants post ads on our platform.\")\n",
    "print(f\"There is {resy_ads_lift}% lift in reservations when restaurants use our alternative ad design instead of the current ad design.\")"
   ]
  },
  {
   "cell_type": "code",
   "execution_count": 14,
   "metadata": {},
   "outputs": [
    {
     "data": {
      "image/png": "[encoded data removed]",
      "text/plain": [
       "<Figure size 640x480 with 1 Axes>"
      ]
     },
     "metadata": {},
     "output_type": "display_data"
    }
   ],
   "source": [
    "bars = plt.bar(['control','current ads', 'new ads'],[control_res_coef,treatment1_res_coef,treatment2_res_coef],width=0.3,align='center')\n",
    "for bar in bars:\n",
    "    height = bar.get_height()\n",
    "    plt.text(\n",
    "        bar.get_x() + bar.get_width()/2,  # x position (center of bar)\n",
    "        height,                           # y position (top of bar)\n",
    "        f'{height:.2f}',                  # format text\n",
    "        ha='center', va='bottom', fontsize=10, color='black'\n",
    "    )\n",
    "plt.xlabel('Group')\n",
    "plt.ylabel('# of Reservations During Experiment')\n",
    "plt.title('ATE: Effect of current ad and new ad design on Reservations')\n",
    "plt.grid(axis='y', linestyle='--', alpha=0.7)\n",
    "plt.show()"
   ]
  },
  {
   "cell_type": "markdown",
   "metadata": {},
   "source": [
    "**Primary Causal Question: Current Ads vs No Ads**\n",
    "\n",
    "The p value of Treatment1 variable is greater than 0.05. We can't say being shown an ad versus no ad has any effect on number of reservations currently.\n",
    "\n",
    "**Primary Causal Question: Current Ads vs New Ads**\n",
    "\n",
    "The p values from linear regression tells us whether estimated coefficients of treatment1 and treatment2 are statistically different from 0. However, it doesn't test statistical significance from each other. We can conduct statistical test (t-test) to determine whether two coefficients are statistically different."
   ]
  },
  {
   "cell_type": "code",
   "execution_count": 15,
   "metadata": {},
   "outputs": [
    {
     "name": "stdout",
     "output_type": "stream",
     "text": [
      "                             Test for Constraints                             \n",
      "==============================================================================\n",
      "                 coef    std err          t      P>|t|      [0.025      0.975]\n",
      "------------------------------------------------------------------------------\n",
      "c0            -6.4690      0.686     -9.426      0.000      -7.815      -5.123\n",
      "==============================================================================\n"
     ]
    }
   ],
   "source": [
    "t_test = experiment_result.t_test('Treatment1 = Treatment2')\n",
    "print(t_test)"
   ]
  },
  {
   "cell_type": "markdown",
   "metadata": {},
   "source": [
    "Another way to test is looking at SE: \n",
    "\n",
    "If Coefficient of treatment2 is within 2*SE (95% CI) of treatment1, they are not statistically different from each other. "
   ]
  },
  {
   "cell_type": "code",
   "execution_count": 16,
   "metadata": {},
   "outputs": [
    {
     "name": "stdout",
     "output_type": "stream",
     "text": [
      "upper: 1.3290000000001285, lower: -1.4149999999998717\n"
     ]
    },
    {
     "name": "stderr",
     "output_type": "stream",
     "text": [
      "/var/folders/pp/n1knqjg57ds10zbbb7v7yvfw0000gn/T/ipykernel_8707/728961200.py:1: FutureWarning: Series.__getitem__ treating keys as positions is deprecated. In a future version, integer keys will always be treated as labels (consistent with DataFrame behavior). To access a value by position, use `ser.iloc[pos]`\n",
      "  upper = experiment_result.params[1] + 2 * 0.686\n",
      "/var/folders/pp/n1knqjg57ds10zbbb7v7yvfw0000gn/T/ipykernel_8707/728961200.py:2: FutureWarning: Series.__getitem__ treating keys as positions is deprecated. In a future version, integer keys will always be treated as labels (consistent with DataFrame behavior). To access a value by position, use `ser.iloc[pos]`\n",
      "  lower = experiment_result.params[1] - 2 * 0.686\n"
     ]
    }
   ],
   "source": [
    "upper = experiment_result.params[1] + 2 * 0.686 \n",
    "lower = experiment_result.params[1] - 2 * 0.686 \n",
    "print(f\"upper: {upper}, lower: {lower}\")"
   ]
  },
  {
   "cell_type": "code",
   "execution_count": 17,
   "metadata": {},
   "outputs": [
    {
     "name": "stdout",
     "output_type": "stream",
     "text": [
      "6.4260000000002275\n"
     ]
    },
    {
     "name": "stderr",
     "output_type": "stream",
     "text": [
      "/var/folders/pp/n1knqjg57ds10zbbb7v7yvfw0000gn/T/ipykernel_8707/1395300823.py:1: FutureWarning: Series.__getitem__ treating keys as positions is deprecated. In a future version, integer keys will always be treated as labels (consistent with DataFrame behavior). To access a value by position, use `ser.iloc[pos]`\n",
      "  print(experiment_result.params[2])\n"
     ]
    }
   ],
   "source": [
    "print(experiment_result.params[2])"
   ]
  },
  {
   "cell_type": "markdown",
   "metadata": {},
   "source": [
    "**From t-test**\n",
    "\n",
    "The p value of treatment2 is less than 0.05, meaning that the difference in coefficient between the two variables is statistically significant. We reject the null hypothesis and state that the average reservations per month are different in current ad design group and new ad design group.\n",
    "\n",
    "**From regression**\n",
    "\n",
    "The same occurs. The coefficient of alternative ad design group is not within the 95% CI of current ad design group; they are statistically different from each other. "
   ]
  },
  {
   "cell_type": "markdown",
   "metadata": {},
   "source": [
    "## 2b. ATE with Control Variables\n",
    "In order to increase the precision of our estimates, we can add additional control variables to the regression. This is expected to reduce the residual (actual - predicted). \n"
   ]
  },
  {
   "cell_type": "code",
   "execution_count": 18,
   "metadata": {},
   "outputs": [
    {
     "data": {
      "text/html": [
       "<table class=\"simpletable\">\n",
       "<caption>OLS Regression Results</caption>\n",
       "<tr>\n",
       "  <th>Dep. Variable:</th>      <td>Reservations</td>   <th>  R-squared:         </th> <td>   0.612</td> \n",
       "</tr>\n",
       "<tr>\n",
       "  <th>Model:</th>                   <td>OLS</td>       <th>  Adj. R-squared:    </th> <td>   0.612</td> \n",
       "</tr>\n",
       "<tr>\n",
       "  <th>Method:</th>             <td>Least Squares</td>  <th>  F-statistic:       </th> <td>   1181.</td> \n",
       "</tr>\n",
       "<tr>\n",
       "  <th>Date:</th>             <td>Tue, 07 Oct 2025</td> <th>  Prob (F-statistic):</th>  <td>  0.00</td>  \n",
       "</tr>\n",
       "<tr>\n",
       "  <th>Time:</th>                 <td>22:10:17</td>     <th>  Log-Likelihood:    </th> <td> -11085.</td> \n",
       "</tr>\n",
       "<tr>\n",
       "  <th>No. Observations:</th>      <td>  3000</td>      <th>  AIC:               </th> <td>2.218e+04</td>\n",
       "</tr>\n",
       "<tr>\n",
       "  <th>Df Residuals:</th>          <td>  2995</td>      <th>  BIC:               </th> <td>2.221e+04</td>\n",
       "</tr>\n",
       "<tr>\n",
       "  <th>Df Model:</th>              <td>     4</td>      <th>                     </th>     <td> </td>    \n",
       "</tr>\n",
       "<tr>\n",
       "  <th>Covariance Type:</th>      <td>nonrobust</td>    <th>                     </th>     <td> </td>    \n",
       "</tr>\n",
       "</table>\n",
       "<table class=\"simpletable\">\n",
       "<tr>\n",
       "           <td></td>              <th>coef</th>     <th>std err</th>      <th>t</th>      <th>P>|t|</th>  <th>[0.025</th>    <th>0.975]</th>  \n",
       "</tr>\n",
       "<tr>\n",
       "  <th>Intercept</th>           <td>  -23.9128</td> <td>    0.907</td> <td>  -26.378</td> <td> 0.000</td> <td>  -25.690</td> <td>  -22.135</td>\n",
       "</tr>\n",
       "<tr>\n",
       "  <th>Treatment1</th>          <td>    0.7502</td> <td>    0.436</td> <td>    1.720</td> <td> 0.085</td> <td>   -0.105</td> <td>    1.605</td>\n",
       "</tr>\n",
       "<tr>\n",
       "  <th>Treatment2</th>          <td>    6.7533</td> <td>    0.436</td> <td>   15.491</td> <td> 0.000</td> <td>    5.899</td> <td>    7.608</td>\n",
       "</tr>\n",
       "<tr>\n",
       "  <th>Chain</th>               <td>  -10.0450</td> <td>    0.524</td> <td>  -19.183</td> <td> 0.000</td> <td>  -11.072</td> <td>   -9.018</td>\n",
       "</tr>\n",
       "<tr>\n",
       "  <th>Stars_PreExperiment</th> <td>   14.0553</td> <td>    0.220</td> <td>   63.861</td> <td> 0.000</td> <td>   13.624</td> <td>   14.487</td>\n",
       "</tr>\n",
       "</table>\n",
       "<table class=\"simpletable\">\n",
       "<tr>\n",
       "  <th>Omnibus:</th>       <td>59.348</td> <th>  Durbin-Watson:     </th> <td>   2.020</td>\n",
       "</tr>\n",
       "<tr>\n",
       "  <th>Prob(Omnibus):</th> <td> 0.000</td> <th>  Jarque-Bera (JB):  </th> <td>  75.830</td>\n",
       "</tr>\n",
       "<tr>\n",
       "  <th>Skew:</th>          <td>-0.258</td> <th>  Prob(JB):          </th> <td>3.42e-17</td>\n",
       "</tr>\n",
       "<tr>\n",
       "  <th>Kurtosis:</th>      <td> 3.583</td> <th>  Cond. No.          </th> <td>    21.7</td>\n",
       "</tr>\n",
       "</table><br/><br/>Notes:<br/>[1] Standard Errors assume that the covariance matrix of the errors is correctly specified."
      ],
      "text/latex": [
       "\\begin{center}\n",
       "\\begin{tabular}{lclc}\n",
       "\\toprule\n",
       "\\textbf{Dep. Variable:}       &   Reservations   & \\textbf{  R-squared:         } &     0.612   \\\\\n",
       "\\textbf{Model:}               &       OLS        & \\textbf{  Adj. R-squared:    } &     0.612   \\\\\n",
       "\\textbf{Method:}              &  Least Squares   & \\textbf{  F-statistic:       } &     1181.   \\\\\n",
       "\\textbf{Date:}                & Tue, 07 Oct 2025 & \\textbf{  Prob (F-statistic):} &     0.00    \\\\\n",
       "\\textbf{Time:}                &     22:10:17     & \\textbf{  Log-Likelihood:    } &   -11085.   \\\\\n",
       "\\textbf{No. Observations:}    &        3000      & \\textbf{  AIC:               } & 2.218e+04   \\\\\n",
       "\\textbf{Df Residuals:}        &        2995      & \\textbf{  BIC:               } & 2.221e+04   \\\\\n",
       "\\textbf{Df Model:}            &           4      & \\textbf{                     } &             \\\\\n",
       "\\textbf{Covariance Type:}     &    nonrobust     & \\textbf{                     } &             \\\\\n",
       "\\bottomrule\n",
       "\\end{tabular}\n",
       "\\begin{tabular}{lcccccc}\n",
       "                              & \\textbf{coef} & \\textbf{std err} & \\textbf{t} & \\textbf{P$> |$t$|$} & \\textbf{[0.025} & \\textbf{0.975]}  \\\\\n",
       "\\midrule\n",
       "\\textbf{Intercept}            &     -23.9128  &        0.907     &   -26.378  &         0.000        &      -25.690    &      -22.135     \\\\\n",
       "\\textbf{Treatment1}           &       0.7502  &        0.436     &     1.720  &         0.085        &       -0.105    &        1.605     \\\\\n",
       "\\textbf{Treatment2}           &       6.7533  &        0.436     &    15.491  &         0.000        &        5.899    &        7.608     \\\\\n",
       "\\textbf{Chain}                &     -10.0450  &        0.524     &   -19.183  &         0.000        &      -11.072    &       -9.018     \\\\\n",
       "\\textbf{Stars\\_PreExperiment} &      14.0553  &        0.220     &    63.861  &         0.000        &       13.624    &       14.487     \\\\\n",
       "\\bottomrule\n",
       "\\end{tabular}\n",
       "\\begin{tabular}{lclc}\n",
       "\\textbf{Omnibus:}       & 59.348 & \\textbf{  Durbin-Watson:     } &    2.020  \\\\\n",
       "\\textbf{Prob(Omnibus):} &  0.000 & \\textbf{  Jarque-Bera (JB):  } &   75.830  \\\\\n",
       "\\textbf{Skew:}          & -0.258 & \\textbf{  Prob(JB):          } & 3.42e-17  \\\\\n",
       "\\textbf{Kurtosis:}      &  3.583 & \\textbf{  Cond. No.          } &     21.7  \\\\\n",
       "\\bottomrule\n",
       "\\end{tabular}\n",
       "%\\caption{OLS Regression Results}\n",
       "\\end{center}\n",
       "\n",
       "Notes: \\newline\n",
       " [1] Standard Errors assume that the covariance matrix of the errors is correctly specified."
      ],
      "text/plain": [
       "<class 'statsmodels.iolib.summary.Summary'>\n",
       "\"\"\"\n",
       "                            OLS Regression Results                            \n",
       "==============================================================================\n",
       "Dep. Variable:           Reservations   R-squared:                       0.612\n",
       "Model:                            OLS   Adj. R-squared:                  0.612\n",
       "Method:                 Least Squares   F-statistic:                     1181.\n",
       "Date:                Tue, 07 Oct 2025   Prob (F-statistic):               0.00\n",
       "Time:                        22:10:17   Log-Likelihood:                -11085.\n",
       "No. Observations:                3000   AIC:                         2.218e+04\n",
       "Df Residuals:                    2995   BIC:                         2.221e+04\n",
       "Df Model:                           4                                         \n",
       "Covariance Type:            nonrobust                                         \n",
       "=======================================================================================\n",
       "                          coef    std err          t      P>|t|      [0.025      0.975]\n",
       "---------------------------------------------------------------------------------------\n",
       "Intercept             -23.9128      0.907    -26.378      0.000     -25.690     -22.135\n",
       "Treatment1              0.7502      0.436      1.720      0.085      -0.105       1.605\n",
       "Treatment2              6.7533      0.436     15.491      0.000       5.899       7.608\n",
       "Chain                 -10.0450      0.524    -19.183      0.000     -11.072      -9.018\n",
       "Stars_PreExperiment    14.0553      0.220     63.861      0.000      13.624      14.487\n",
       "==============================================================================\n",
       "Omnibus:                       59.348   Durbin-Watson:                   2.020\n",
       "Prob(Omnibus):                  0.000   Jarque-Bera (JB):               75.830\n",
       "Skew:                          -0.258   Prob(JB):                     3.42e-17\n",
       "Kurtosis:                       3.583   Cond. No.                         21.7\n",
       "==============================================================================\n",
       "\n",
       "Notes:\n",
       "[1] Standard Errors assume that the covariance matrix of the errors is correctly specified.\n",
       "\"\"\""
      ]
     },
     "execution_count": 18,
     "metadata": {},
     "output_type": "execute_result"
    }
   ],
   "source": [
    "experiment_result_control = smf.ols('Reservations ~ Treatment1+Treatment2+ Chain + Stars_PreExperiment', data = rg_df).fit()\n",
    "experiment_result_control.summary()"
   ]
  },
  {
   "cell_type": "markdown",
   "metadata": {},
   "source": [
    "The standard errors of coefficients decreased, meaning precision of ATE got better. The expected value of ATE  for treatment2 increased by 0.3 and for treatment 1, it increased by 0.7.\n",
    "\n",
    "The conclusion still wouldn't change when adding control coefficients.\n",
    "\n",
    "Adding control variables decrease SE and therefore increase precision and power without changing the sample size.\n",
    "\n",
    "Power is the probability of estimating the true ATE (chance of avoiding Type 2 FN error). We gain more power to detect whether the new ad layout truly increases reservations."
   ]
  },
  {
   "cell_type": "markdown",
   "metadata": {},
   "source": [
    "# 3. Secondary Metric Experiment Result \n",
    "\n",
    "Secondary Metrics are phone calls and page visits.\n",
    "\n",
    "The number of phone calls from the restaurant’s page in a month.\n",
    "\n",
    "The number of page visits to restaurant pages in a month.\n",
    "\n",
    "These measure engagement and visibility, though reservations are the ultimate outcome."
   ]
  },
  {
   "cell_type": "markdown",
   "metadata": {},
   "source": [
    "## 3a. Phone Calls"
   ]
  },
  {
   "cell_type": "code",
   "execution_count": 20,
   "metadata": {},
   "outputs": [
    {
     "data": {
      "text/html": [
       "<table class=\"simpletable\">\n",
       "<caption>OLS Regression Results</caption>\n",
       "<tr>\n",
       "  <th>Dep. Variable:</th>          <td>Calls</td>      <th>  R-squared:         </th> <td>   0.003</td> \n",
       "</tr>\n",
       "<tr>\n",
       "  <th>Model:</th>                   <td>OLS</td>       <th>  Adj. R-squared:    </th> <td>   0.002</td> \n",
       "</tr>\n",
       "<tr>\n",
       "  <th>Method:</th>             <td>Least Squares</td>  <th>  F-statistic:       </th> <td>   4.384</td> \n",
       "</tr>\n",
       "<tr>\n",
       "  <th>Date:</th>             <td>Tue, 07 Oct 2025</td> <th>  Prob (F-statistic):</th>  <td>0.0126</td>  \n",
       "</tr>\n",
       "<tr>\n",
       "  <th>Time:</th>                 <td>22:14:08</td>     <th>  Log-Likelihood:    </th> <td> -13206.</td> \n",
       "</tr>\n",
       "<tr>\n",
       "  <th>No. Observations:</th>      <td>  3000</td>      <th>  AIC:               </th> <td>2.642e+04</td>\n",
       "</tr>\n",
       "<tr>\n",
       "  <th>Df Residuals:</th>          <td>  2997</td>      <th>  BIC:               </th> <td>2.644e+04</td>\n",
       "</tr>\n",
       "<tr>\n",
       "  <th>Df Model:</th>              <td>     2</td>      <th>                     </th>     <td> </td>    \n",
       "</tr>\n",
       "<tr>\n",
       "  <th>Covariance Type:</th>      <td>nonrobust</td>    <th>                     </th>     <td> </td>    \n",
       "</tr>\n",
       "</table>\n",
       "<table class=\"simpletable\">\n",
       "<tr>\n",
       "       <td></td>         <th>coef</th>     <th>std err</th>      <th>t</th>      <th>P>|t|</th>  <th>[0.025</th>    <th>0.975]</th>  \n",
       "</tr>\n",
       "<tr>\n",
       "  <th>Intercept</th>  <td>   23.6080</td> <td>    0.625</td> <td>   37.784</td> <td> 0.000</td> <td>   22.383</td> <td>   24.833</td>\n",
       "</tr>\n",
       "<tr>\n",
       "  <th>Treatment1</th> <td>    2.3680</td> <td>    0.884</td> <td>    2.680</td> <td> 0.007</td> <td>    0.635</td> <td>    4.101</td>\n",
       "</tr>\n",
       "<tr>\n",
       "  <th>Treatment2</th> <td>    2.1480</td> <td>    0.884</td> <td>    2.431</td> <td> 0.015</td> <td>    0.415</td> <td>    3.881</td>\n",
       "</tr>\n",
       "</table>\n",
       "<table class=\"simpletable\">\n",
       "<tr>\n",
       "  <th>Omnibus:</th>       <td>207.721</td> <th>  Durbin-Watson:     </th> <td>   1.988</td>\n",
       "</tr>\n",
       "<tr>\n",
       "  <th>Prob(Omnibus):</th> <td> 0.000</td>  <th>  Jarque-Bera (JB):  </th> <td> 233.763</td>\n",
       "</tr>\n",
       "<tr>\n",
       "  <th>Skew:</th>          <td> 0.659</td>  <th>  Prob(JB):          </th> <td>1.73e-51</td>\n",
       "</tr>\n",
       "<tr>\n",
       "  <th>Kurtosis:</th>      <td> 2.633</td>  <th>  Cond. No.          </th> <td>    3.73</td>\n",
       "</tr>\n",
       "</table><br/><br/>Notes:<br/>[1] Standard Errors assume that the covariance matrix of the errors is correctly specified."
      ],
      "text/latex": [
       "\\begin{center}\n",
       "\\begin{tabular}{lclc}\n",
       "\\toprule\n",
       "\\textbf{Dep. Variable:}    &      Calls       & \\textbf{  R-squared:         } &     0.003   \\\\\n",
       "\\textbf{Model:}            &       OLS        & \\textbf{  Adj. R-squared:    } &     0.002   \\\\\n",
       "\\textbf{Method:}           &  Least Squares   & \\textbf{  F-statistic:       } &     4.384   \\\\\n",
       "\\textbf{Date:}             & Tue, 07 Oct 2025 & \\textbf{  Prob (F-statistic):} &   0.0126    \\\\\n",
       "\\textbf{Time:}             &     22:14:08     & \\textbf{  Log-Likelihood:    } &   -13206.   \\\\\n",
       "\\textbf{No. Observations:} &        3000      & \\textbf{  AIC:               } & 2.642e+04   \\\\\n",
       "\\textbf{Df Residuals:}     &        2997      & \\textbf{  BIC:               } & 2.644e+04   \\\\\n",
       "\\textbf{Df Model:}         &           2      & \\textbf{                     } &             \\\\\n",
       "\\textbf{Covariance Type:}  &    nonrobust     & \\textbf{                     } &             \\\\\n",
       "\\bottomrule\n",
       "\\end{tabular}\n",
       "\\begin{tabular}{lcccccc}\n",
       "                    & \\textbf{coef} & \\textbf{std err} & \\textbf{t} & \\textbf{P$> |$t$|$} & \\textbf{[0.025} & \\textbf{0.975]}  \\\\\n",
       "\\midrule\n",
       "\\textbf{Intercept}  &      23.6080  &        0.625     &    37.784  &         0.000        &       22.383    &       24.833     \\\\\n",
       "\\textbf{Treatment1} &       2.3680  &        0.884     &     2.680  &         0.007        &        0.635    &        4.101     \\\\\n",
       "\\textbf{Treatment2} &       2.1480  &        0.884     &     2.431  &         0.015        &        0.415    &        3.881     \\\\\n",
       "\\bottomrule\n",
       "\\end{tabular}\n",
       "\\begin{tabular}{lclc}\n",
       "\\textbf{Omnibus:}       & 207.721 & \\textbf{  Durbin-Watson:     } &    1.988  \\\\\n",
       "\\textbf{Prob(Omnibus):} &   0.000 & \\textbf{  Jarque-Bera (JB):  } &  233.763  \\\\\n",
       "\\textbf{Skew:}          &   0.659 & \\textbf{  Prob(JB):          } & 1.73e-51  \\\\\n",
       "\\textbf{Kurtosis:}      &   2.633 & \\textbf{  Cond. No.          } &     3.73  \\\\\n",
       "\\bottomrule\n",
       "\\end{tabular}\n",
       "%\\caption{OLS Regression Results}\n",
       "\\end{center}\n",
       "\n",
       "Notes: \\newline\n",
       " [1] Standard Errors assume that the covariance matrix of the errors is correctly specified."
      ],
      "text/plain": [
       "<class 'statsmodels.iolib.summary.Summary'>\n",
       "\"\"\"\n",
       "                            OLS Regression Results                            \n",
       "==============================================================================\n",
       "Dep. Variable:                  Calls   R-squared:                       0.003\n",
       "Model:                            OLS   Adj. R-squared:                  0.002\n",
       "Method:                 Least Squares   F-statistic:                     4.384\n",
       "Date:                Tue, 07 Oct 2025   Prob (F-statistic):             0.0126\n",
       "Time:                        22:14:08   Log-Likelihood:                -13206.\n",
       "No. Observations:                3000   AIC:                         2.642e+04\n",
       "Df Residuals:                    2997   BIC:                         2.644e+04\n",
       "Df Model:                           2                                         \n",
       "Covariance Type:            nonrobust                                         \n",
       "==============================================================================\n",
       "                 coef    std err          t      P>|t|      [0.025      0.975]\n",
       "------------------------------------------------------------------------------\n",
       "Intercept     23.6080      0.625     37.784      0.000      22.383      24.833\n",
       "Treatment1     2.3680      0.884      2.680      0.007       0.635       4.101\n",
       "Treatment2     2.1480      0.884      2.431      0.015       0.415       3.881\n",
       "==============================================================================\n",
       "Omnibus:                      207.721   Durbin-Watson:                   1.988\n",
       "Prob(Omnibus):                  0.000   Jarque-Bera (JB):              233.763\n",
       "Skew:                           0.659   Prob(JB):                     1.73e-51\n",
       "Kurtosis:                       2.633   Cond. No.                         3.73\n",
       "==============================================================================\n",
       "\n",
       "Notes:\n",
       "[1] Standard Errors assume that the covariance matrix of the errors is correctly specified.\n",
       "\"\"\""
      ]
     },
     "execution_count": 20,
     "metadata": {},
     "output_type": "execute_result"
    }
   ],
   "source": [
    "experiment_result_2 = smf.ols('Calls ~ Treatment1+Treatment2', data = rg_df).fit()\n",
    "experiment_result_2.summary()"
   ]
  },
  {
   "cell_type": "code",
   "execution_count": 21,
   "metadata": {},
   "outputs": [
    {
     "name": "stderr",
     "output_type": "stream",
     "text": [
      "/var/folders/pp/n1knqjg57ds10zbbb7v7yvfw0000gn/T/ipykernel_8707/500347548.py:1: FutureWarning: Series.__getitem__ treating keys as positions is deprecated. In a future version, integer keys will always be treated as labels (consistent with DataFrame behavior). To access a value by position, use `ser.iloc[pos]`\n",
      "  control_res_coef = experiment_result_2.params[0]\n",
      "/var/folders/pp/n1knqjg57ds10zbbb7v7yvfw0000gn/T/ipykernel_8707/500347548.py:2: FutureWarning: Series.__getitem__ treating keys as positions is deprecated. In a future version, integer keys will always be treated as labels (consistent with DataFrame behavior). To access a value by position, use `ser.iloc[pos]`\n",
      "  treatment1_res_coef = experiment_result_2.params[0] + experiment_result_2.params[1]\n",
      "/var/folders/pp/n1knqjg57ds10zbbb7v7yvfw0000gn/T/ipykernel_8707/500347548.py:3: FutureWarning: Series.__getitem__ treating keys as positions is deprecated. In a future version, integer keys will always be treated as labels (consistent with DataFrame behavior). To access a value by position, use `ser.iloc[pos]`\n",
      "  treatment2_res_coef = experiment_result_2.params[0] + experiment_result_2.params[2]\n"
     ]
    }
   ],
   "source": [
    "control_res_coef = experiment_result_2.params[0]\n",
    "treatment1_res_coef = experiment_result_2.params[0] + experiment_result_2.params[1]\n",
    "treatment2_res_coef = experiment_result_2.params[0] + experiment_result_2.params[2]\n",
    "arr_2 = [control_res_coef,treatment1_res_coef,treatment2_res_coef]\n"
   ]
  },
  {
   "cell_type": "code",
   "execution_count": 28,
   "metadata": {},
   "outputs": [
    {
     "name": "stdout",
     "output_type": "stream",
     "text": [
      "There is 9.12% lift in phone calls when restaurants post ads on our platform.\n",
      "There is -0.85% lift in phone calls when restaurants use our alternative ad design instead of the current ad design.\n"
     ]
    }
   ],
   "source": [
    "phone_lift = round((treatment1_res_coef - control_res_coef)*100/treatment1_res_coef,2)\n",
    "phone_ads_lift = round((treatment2_res_coef - treatment1_res_coef)*100/treatment1_res_coef,2)\n",
    "print(f\"There is {phone_lift}% lift in phone calls when restaurants post ads on our platform.\")\n",
    "print(f\"There is {phone_ads_lift}% lift in phone calls when restaurants use our alternative ad design instead of the current ad design.\")"
   ]
  },
  {
   "cell_type": "code",
   "execution_count": 23,
   "metadata": {},
   "outputs": [
    {
     "data": {
      "image/png": "[encoded data removed]",
      "text/plain": [
       "<Figure size 640x480 with 1 Axes>"
      ]
     },
     "metadata": {},
     "output_type": "display_data"
    }
   ],
   "source": [
    "bars = plt.bar(['control','current ads', 'new ads'],[control_res_coef,treatment1_res_coef,treatment2_res_coef],width=0.3,align='center')\n",
    "for bar in bars:\n",
    "    height = bar.get_height()\n",
    "    plt.text(\n",
    "        bar.get_x() + bar.get_width()/2,  # x position (center of bar)\n",
    "        height,                           # y position (top of bar)\n",
    "        f'{height:.2f}',                  # format text\n",
    "        ha='center', va='bottom', fontsize=10, color='black'\n",
    "    )\n",
    "plt.xlabel('Group')\n",
    "plt.ylabel('# of Phone Calls During Experiment')\n",
    "plt.title('ATE: Effect of current ad and new ad design on Phone Calls')\n",
    "plt.grid(axis='y', linestyle='--', alpha=0.7)\n",
    "plt.show()"
   ]
  },
  {
   "cell_type": "markdown",
   "metadata": {},
   "source": [
    "**Primary Causal Question: Current Ads vs New Ads**\n",
    "\n",
    "From the visualization, we don't see much change in new ads or current ads. \n",
    "\n",
    "**Secondary Causal Question: Current Ads vs No Ads**\n",
    "\n",
    "We identified 9.12% lift in phone calls when restaurants post ads on our platform.\n",
    "\n",
    "Is this statistically significant or due to random chance? \n",
    "\n",
    "The p value is less than 0.05 and is sufficient to reject null hypothesis. \n",
    "\n",
    "There is difference in phone call between control and current ads group, and when we look at the diagram above, we see increase in phone call by 2."
   ]
  },
  {
   "cell_type": "markdown",
   "metadata": {},
   "source": [
    "## 3b. Page Views"
   ]
  },
  {
   "cell_type": "code",
   "execution_count": 25,
   "metadata": {},
   "outputs": [
    {
     "data": {
      "text/plain": [
       "Index(['Restaurant_Number', 'Page_Views', 'Calls', 'Reservations',\n",
       "       'Stars_PreExperiment', 'Chain', 'Treatment_Arm', 'Treatment1',\n",
       "       'Treatment2'],\n",
       "      dtype='object')"
      ]
     },
     "execution_count": 25,
     "metadata": {},
     "output_type": "execute_result"
    }
   ],
   "source": [
    "rg_df.columns"
   ]
  },
  {
   "cell_type": "code",
   "execution_count": 27,
   "metadata": {},
   "outputs": [
    {
     "data": {
      "text/html": [
       "<table class=\"simpletable\">\n",
       "<caption>OLS Regression Results</caption>\n",
       "<tr>\n",
       "  <th>Dep. Variable:</th>       <td>Page_Views</td>    <th>  R-squared:         </th> <td>   0.012</td> \n",
       "</tr>\n",
       "<tr>\n",
       "  <th>Model:</th>                   <td>OLS</td>       <th>  Adj. R-squared:    </th> <td>   0.011</td> \n",
       "</tr>\n",
       "<tr>\n",
       "  <th>Method:</th>             <td>Least Squares</td>  <th>  F-statistic:       </th> <td>   17.47</td> \n",
       "</tr>\n",
       "<tr>\n",
       "  <th>Date:</th>             <td>Tue, 07 Oct 2025</td> <th>  Prob (F-statistic):</th> <td>2.87e-08</td> \n",
       "</tr>\n",
       "<tr>\n",
       "  <th>Time:</th>                 <td>22:22:15</td>     <th>  Log-Likelihood:    </th> <td> -19835.</td> \n",
       "</tr>\n",
       "<tr>\n",
       "  <th>No. Observations:</th>      <td>  3000</td>      <th>  AIC:               </th> <td>3.968e+04</td>\n",
       "</tr>\n",
       "<tr>\n",
       "  <th>Df Residuals:</th>          <td>  2997</td>      <th>  BIC:               </th> <td>3.969e+04</td>\n",
       "</tr>\n",
       "<tr>\n",
       "  <th>Df Model:</th>              <td>     2</td>      <th>                     </th>     <td> </td>    \n",
       "</tr>\n",
       "<tr>\n",
       "  <th>Covariance Type:</th>      <td>nonrobust</td>    <th>                     </th>     <td> </td>    \n",
       "</tr>\n",
       "</table>\n",
       "<table class=\"simpletable\">\n",
       "<tr>\n",
       "       <td></td>         <th>coef</th>     <th>std err</th>      <th>t</th>      <th>P>|t|</th>  <th>[0.025</th>    <th>0.975]</th>  \n",
       "</tr>\n",
       "<tr>\n",
       "  <th>Intercept</th>  <td>  294.5960</td> <td>    5.694</td> <td>   51.735</td> <td> 0.000</td> <td>  283.431</td> <td>  305.761</td>\n",
       "</tr>\n",
       "<tr>\n",
       "  <th>Treatment1</th> <td>   47.5970</td> <td>    8.053</td> <td>    5.910</td> <td> 0.000</td> <td>   31.807</td> <td>   63.387</td>\n",
       "</tr>\n",
       "<tr>\n",
       "  <th>Treatment2</th> <td>   24.0860</td> <td>    8.053</td> <td>    2.991</td> <td> 0.003</td> <td>    8.296</td> <td>   39.876</td>\n",
       "</tr>\n",
       "</table>\n",
       "<table class=\"simpletable\">\n",
       "<tr>\n",
       "  <th>Omnibus:</th>       <td>53.329</td> <th>  Durbin-Watson:     </th> <td>   2.020</td>\n",
       "</tr>\n",
       "<tr>\n",
       "  <th>Prob(Omnibus):</th> <td> 0.000</td> <th>  Jarque-Bera (JB):  </th> <td>  44.430</td>\n",
       "</tr>\n",
       "<tr>\n",
       "  <th>Skew:</th>          <td> 0.229</td> <th>  Prob(JB):          </th> <td>2.25e-10</td>\n",
       "</tr>\n",
       "<tr>\n",
       "  <th>Kurtosis:</th>      <td> 2.619</td> <th>  Cond. No.          </th> <td>    3.73</td>\n",
       "</tr>\n",
       "</table><br/><br/>Notes:<br/>[1] Standard Errors assume that the covariance matrix of the errors is correctly specified."
      ],
      "text/latex": [
       "\\begin{center}\n",
       "\\begin{tabular}{lclc}\n",
       "\\toprule\n",
       "\\textbf{Dep. Variable:}    &   Page\\_Views    & \\textbf{  R-squared:         } &     0.012   \\\\\n",
       "\\textbf{Model:}            &       OLS        & \\textbf{  Adj. R-squared:    } &     0.011   \\\\\n",
       "\\textbf{Method:}           &  Least Squares   & \\textbf{  F-statistic:       } &     17.47   \\\\\n",
       "\\textbf{Date:}             & Tue, 07 Oct 2025 & \\textbf{  Prob (F-statistic):} &  2.87e-08   \\\\\n",
       "\\textbf{Time:}             &     22:22:15     & \\textbf{  Log-Likelihood:    } &   -19835.   \\\\\n",
       "\\textbf{No. Observations:} &        3000      & \\textbf{  AIC:               } & 3.968e+04   \\\\\n",
       "\\textbf{Df Residuals:}     &        2997      & \\textbf{  BIC:               } & 3.969e+04   \\\\\n",
       "\\textbf{Df Model:}         &           2      & \\textbf{                     } &             \\\\\n",
       "\\textbf{Covariance Type:}  &    nonrobust     & \\textbf{                     } &             \\\\\n",
       "\\bottomrule\n",
       "\\end{tabular}\n",
       "\\begin{tabular}{lcccccc}\n",
       "                    & \\textbf{coef} & \\textbf{std err} & \\textbf{t} & \\textbf{P$> |$t$|$} & \\textbf{[0.025} & \\textbf{0.975]}  \\\\\n",
       "\\midrule\n",
       "\\textbf{Intercept}  &     294.5960  &        5.694     &    51.735  &         0.000        &      283.431    &      305.761     \\\\\n",
       "\\textbf{Treatment1} &      47.5970  &        8.053     &     5.910  &         0.000        &       31.807    &       63.387     \\\\\n",
       "\\textbf{Treatment2} &      24.0860  &        8.053     &     2.991  &         0.003        &        8.296    &       39.876     \\\\\n",
       "\\bottomrule\n",
       "\\end{tabular}\n",
       "\\begin{tabular}{lclc}\n",
       "\\textbf{Omnibus:}       & 53.329 & \\textbf{  Durbin-Watson:     } &    2.020  \\\\\n",
       "\\textbf{Prob(Omnibus):} &  0.000 & \\textbf{  Jarque-Bera (JB):  } &   44.430  \\\\\n",
       "\\textbf{Skew:}          &  0.229 & \\textbf{  Prob(JB):          } & 2.25e-10  \\\\\n",
       "\\textbf{Kurtosis:}      &  2.619 & \\textbf{  Cond. No.          } &     3.73  \\\\\n",
       "\\bottomrule\n",
       "\\end{tabular}\n",
       "%\\caption{OLS Regression Results}\n",
       "\\end{center}\n",
       "\n",
       "Notes: \\newline\n",
       " [1] Standard Errors assume that the covariance matrix of the errors is correctly specified."
      ],
      "text/plain": [
       "<class 'statsmodels.iolib.summary.Summary'>\n",
       "\"\"\"\n",
       "                            OLS Regression Results                            \n",
       "==============================================================================\n",
       "Dep. Variable:             Page_Views   R-squared:                       0.012\n",
       "Model:                            OLS   Adj. R-squared:                  0.011\n",
       "Method:                 Least Squares   F-statistic:                     17.47\n",
       "Date:                Tue, 07 Oct 2025   Prob (F-statistic):           2.87e-08\n",
       "Time:                        22:22:15   Log-Likelihood:                -19835.\n",
       "No. Observations:                3000   AIC:                         3.968e+04\n",
       "Df Residuals:                    2997   BIC:                         3.969e+04\n",
       "Df Model:                           2                                         \n",
       "Covariance Type:            nonrobust                                         \n",
       "==============================================================================\n",
       "                 coef    std err          t      P>|t|      [0.025      0.975]\n",
       "------------------------------------------------------------------------------\n",
       "Intercept    294.5960      5.694     51.735      0.000     283.431     305.761\n",
       "Treatment1    47.5970      8.053      5.910      0.000      31.807      63.387\n",
       "Treatment2    24.0860      8.053      2.991      0.003       8.296      39.876\n",
       "==============================================================================\n",
       "Omnibus:                       53.329   Durbin-Watson:                   2.020\n",
       "Prob(Omnibus):                  0.000   Jarque-Bera (JB):               44.430\n",
       "Skew:                           0.229   Prob(JB):                     2.25e-10\n",
       "Kurtosis:                       2.619   Cond. No.                         3.73\n",
       "==============================================================================\n",
       "\n",
       "Notes:\n",
       "[1] Standard Errors assume that the covariance matrix of the errors is correctly specified.\n",
       "\"\"\""
      ]
     },
     "execution_count": 27,
     "metadata": {},
     "output_type": "execute_result"
    }
   ],
   "source": [
    "experiment_result_3 = smf.ols('Page_Views ~ Treatment1+Treatment2', data = rg_df).fit()\n",
    "experiment_result_3.summary()"
   ]
  },
  {
   "cell_type": "code",
   "execution_count": 29,
   "metadata": {},
   "outputs": [
    {
     "name": "stderr",
     "output_type": "stream",
     "text": [
      "/var/folders/pp/n1knqjg57ds10zbbb7v7yvfw0000gn/T/ipykernel_8707/1206963128.py:1: FutureWarning: Series.__getitem__ treating keys as positions is deprecated. In a future version, integer keys will always be treated as labels (consistent with DataFrame behavior). To access a value by position, use `ser.iloc[pos]`\n",
      "  control_res_coef = experiment_result_3.params[0]\n",
      "/var/folders/pp/n1knqjg57ds10zbbb7v7yvfw0000gn/T/ipykernel_8707/1206963128.py:2: FutureWarning: Series.__getitem__ treating keys as positions is deprecated. In a future version, integer keys will always be treated as labels (consistent with DataFrame behavior). To access a value by position, use `ser.iloc[pos]`\n",
      "  treatment1_res_coef = experiment_result_3.params[0] + experiment_result_3.params[1]\n",
      "/var/folders/pp/n1knqjg57ds10zbbb7v7yvfw0000gn/T/ipykernel_8707/1206963128.py:3: FutureWarning: Series.__getitem__ treating keys as positions is deprecated. In a future version, integer keys will always be treated as labels (consistent with DataFrame behavior). To access a value by position, use `ser.iloc[pos]`\n",
      "  treatment2_res_coef = experiment_result_3.params[0] + experiment_result_3.params[2]\n"
     ]
    }
   ],
   "source": [
    "control_res_coef = experiment_result_3.params[0]\n",
    "treatment1_res_coef = experiment_result_3.params[0] + experiment_result_3.params[1]\n",
    "treatment2_res_coef = experiment_result_3.params[0] + experiment_result_3.params[2]\n",
    "arr_3 = [control_res_coef,treatment1_res_coef,treatment2_res_coef]\n"
   ]
  },
  {
   "cell_type": "code",
   "execution_count": 30,
   "metadata": {},
   "outputs": [
    {
     "name": "stdout",
     "output_type": "stream",
     "text": [
      "There is 13.91% lift in page visits when restaurants post ads on our platform.\n",
      "There is -6.87% lift in page visits when restaurants use our alternative ad design instead of the current ad design.\n"
     ]
    }
   ],
   "source": [
    "page_lift = round((treatment1_res_coef - control_res_coef)*100/treatment1_res_coef,2)\n",
    "page_ads_lift = round((treatment2_res_coef - treatment1_res_coef)*100/treatment1_res_coef,2)\n",
    "print(f\"There is {page_lift}% lift in page visits when restaurants post ads on our platform.\")\n",
    "print(f\"There is {page_ads_lift}% lift in page visits when restaurants use our alternative ad design instead of the current ad design.\")"
   ]
  },
  {
   "cell_type": "code",
   "execution_count": 31,
   "metadata": {},
   "outputs": [
    {
     "data": {
      "image/png": "[encoded data removed]",
      "text/plain": [
       "<Figure size 640x480 with 1 Axes>"
      ]
     },
     "metadata": {},
     "output_type": "display_data"
    }
   ],
   "source": [
    "bars = plt.bar(['control','current ads', 'new ads'],[control_res_coef,treatment1_res_coef,treatment2_res_coef],width=0.3,align='center')\n",
    "for bar in bars:\n",
    "    height = bar.get_height()\n",
    "    plt.text(\n",
    "        bar.get_x() + bar.get_width()/2,  # x position (center of bar)\n",
    "        height,                           # y position (top of bar)\n",
    "        f'{height:.2f}',                  # format text\n",
    "        ha='center', va='bottom', fontsize=10, color='black'\n",
    "    )\n",
    "plt.xlabel('Group')\n",
    "plt.ylabel('# of Page Visits During Experiment')\n",
    "plt.title('ATE: Effect of current ad and new ad design on Page Visits')\n",
    "plt.grid(axis='y', linestyle='--', alpha=0.7)\n",
    "plt.show()"
   ]
  },
  {
   "cell_type": "markdown",
   "metadata": {},
   "source": [
    "**Primary Causal Question: Current Ads vs New Ads**\n",
    "\n",
    "Current ads perform better in page views compared to new ads.\n",
    "\n",
    "**Secondary Causal Question: Current Ads vs No Ads**\n",
    "\n",
    "Current ad perform better in page views (13.91% lift) compared to no ads"
   ]
  },
  {
   "cell_type": "code",
   "execution_count": 32,
   "metadata": {},
   "outputs": [
    {
     "name": "stdout",
     "output_type": "stream",
     "text": [
      "                             Test for Constraints                             \n",
      "==============================================================================\n",
      "                 coef    std err          t      P>|t|      [0.025      0.975]\n",
      "------------------------------------------------------------------------------\n",
      "c0            23.5110      8.053      2.920      0.004       7.721      39.301\n",
      "==============================================================================\n"
     ]
    }
   ],
   "source": [
    "t_test_3 = experiment_result_3.t_test('Treatment1 = Treatment2')\n",
    "print(t_test_3)"
   ]
  },
  {
   "cell_type": "code",
   "execution_count": 34,
   "metadata": {},
   "outputs": [
    {
     "name": "stdout",
     "output_type": "stream",
     "text": [
      "                             Test for Constraints                             \n",
      "==============================================================================\n",
      "                 coef    std err          t      P>|t|      [0.025      0.975]\n",
      "------------------------------------------------------------------------------\n",
      "c0          -246.9990     12.733    -19.398      0.000    -271.965    -222.033\n",
      "==============================================================================\n"
     ]
    }
   ],
   "source": [
    "t_test_3b = experiment_result_3.t_test('Treatment1 = Intercept')\n",
    "print(t_test_3b)"
   ]
  },
  {
   "cell_type": "markdown",
   "metadata": {},
   "source": [
    "The p value is less than 0.05 meaning that the increase in page views for current ads is not due to random chance (in comparison to both new ads and no ads)"
   ]
  },
  {
   "cell_type": "markdown",
   "metadata": {},
   "source": [
    "# 4. Conclusions"
   ]
  },
  {
   "cell_type": "markdown",
   "metadata": {},
   "source": [
    "## 4a. Insights Summary\n",
    "\n",
    "**Reservations**\n",
    "\n",
    "The new ad design led to a statistically and economically significant increase in reservations, with an estimated lift of 6 additional reservations per restaurant per month—equivalent to a 22% improvement compared to the current ad design.\n",
    "This result suggests that emphasizing dishes rather than restaurant profiles may drive stronger user intent and booking conversions.\n",
    "\n",
    "**Phone Calls and Page Views**\n",
    "\n",
    "For secondary engagement metrics:\n",
    "\n",
    "Phone Calls: \n",
    "\n",
    "- Current ads outperformed both the new design and control group, resulting in an average increase of 2 calls per month (≈9% lift). The difference between the current and new designs was not statistically significant.\n",
    "\n",
    "Page Views: \n",
    "\n",
    "- Current ads also increased visibility, generating 48 more page views (+13%) compared to no ads, whereas the new ad design led to a 24-view decline (–6.8%) relative to control.\n",
    "\n",
    "These mixed results highlight a trade-off between visibility (page views, calls) and conversion (reservations).\n"
   ]
  },
  {
   "cell_type": "markdown",
   "metadata": {},
   "source": [
    "## 4b. Strategic Implications\n",
    "\n",
    "While reservations (North Star Metric) showed strong improvement, RG should carefully assess potential downstream impacts on upper-funnel engagement metrics before full deployment. A follow-up study could measure Heterogeneous Treatment Effects (HTE) across restaurant types (ex chain vs. independent, high vs. low star ratings) to understand which segments benefit most from the new design.\n",
    "\n"
   ]
  },
  {
   "cell_type": "markdown",
   "metadata": {},
   "source": [
    "## 4c. External Validity and Scale-Up Considerations\n",
    "\n",
    "Because the pilot sample included only non-subscribing restaurants, scaling results to paying advertisers may have limited external generalizability:\n",
    "\n",
    "Price Sensitivity: \n",
    "\n",
    "- When RG adjusts ad pricing, current subscribers (often more price-sensitive) may respond differently, potentially reducing retention.\n",
    "\n",
    "Implementation Constraints:\n",
    "\n",
    "- Running a new A/B test among existing subscribers would require temporarily disabling ads for the control group, which could create business or client-relations challenges.\n",
    "\n",
    "Analytical Adjustment: \n",
    "\n",
    "- For tests involving ongoing subscribers or longitudinal performance, a Difference-in-Differences (DiD) framework would help isolate incremental ad effects over time and account for pre-existing subscriber behavior.\n"
   ]
  },
  {
   "cell_type": "markdown",
   "metadata": {},
   "source": [
    "## 4d. Final Recommendation\n",
    "\n",
    "RG should proceed with a targeted roll-out:\n",
    "\n",
    "Pilot the new ad layout among specific restaurant cohorts (ex. high-rated independents) identified through HTE analysis.\n",
    "\n",
    "Monitor leading metrics (page views, calls) to ensure no unintended engagement drop.\n",
    "\n",
    "Use DiD or longitudinal modeling when expanding to subscriber populations to validate external consistency."
   ]
  }
 ],
 "metadata": {
  "kernelspec": {
   "display_name": ".venv",
   "language": "python",
   "name": "python3"
  },
  "language_info": {
   "codemirror_mode": {
    "name": "ipython",
    "version": 3
   },
   "file_extension": ".py",
   "mimetype": "text/x-python",
   "name": "python",
   "nbconvert_exporter": "python",
   "pygments_lexer": "ipython3",
   "version": "3.11.4"
  }
 },
 "nbformat": 4,
 "nbformat_minor": 2
}
